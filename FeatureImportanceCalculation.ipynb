{
 "cells": [
  {
   "cell_type": "code",
   "execution_count": 1,
   "metadata": {},
   "outputs": [
    {
     "name": "stderr",
     "output_type": "stream",
     "text": [
      "c:\\users\\rmt\\miniconda3\\lib\\importlib\\_bootstrap.py:219: RuntimeWarning: numpy.ufunc size changed, may indicate binary incompatibility. Expected 192 from C header, got 216 from PyObject\n",
      "  return f(*args, **kwds)\n"
     ]
    }
   ],
   "source": [
    "from sklearn.datasets import make_regression\n",
    "from sklearn.datasets import make_classification\n",
    "from matplotlib import pyplot\n",
    "\n",
    "X, y = make_regression(n_samples=1000, n_features=10, n_informative=5, random_state=1)\n",
    "_X, _y = make_classification(n_samples=1000, n_features=10, n_informative=5, random_state=1)"
   ]
  },
  {
   "cell_type": "markdown",
   "metadata": {},
   "source": [
    "## Linear Regression Feature Importance"
   ]
  },
  {
   "cell_type": "code",
   "execution_count": 2,
   "metadata": {},
   "outputs": [
    {
     "name": "stdout",
     "output_type": "stream",
     "text": [
      "Feature: 0, Score: -0.00000\n",
      "Feature: 1, Score: 12.44483\n",
      "Feature: 2, Score: 0.00000\n",
      "Feature: 3, Score: -0.00000\n",
      "Feature: 4, Score: 93.32225\n",
      "Feature: 5, Score: 86.50811\n",
      "Feature: 6, Score: 26.74607\n",
      "Feature: 7, Score: 3.28535\n",
      "Feature: 8, Score: 0.00000\n",
      "Feature: 9, Score: -0.00000\n"
     ]
    },
    {
     "data": {
      "image/png": "[encoded data removed]",
      "text/plain": [
       "<Figure size 432x288 with 1 Axes>"
      ]
     },
     "metadata": {
      "needs_background": "light"
     },
     "output_type": "display_data"
    }
   ],
   "source": [
    "from sklearn.linear_model import LinearRegression\n",
    "\n",
    "model = LinearRegression()\n",
    "model.fit(X, y)\n",
    "\n",
    "importance = model.coef_\n",
    "for i, v in enumerate(importance):\n",
    "    print(\"Feature: %0d, Score: %.5f\" % (i,v))\n",
    "    \n",
    "pyplot.bar([x for x in range(len(importance))], importance)\n",
    "pyplot.show()"
   ]
  },
  {
   "cell_type": "markdown",
   "metadata": {},
   "source": [
    "## Logistic Regression Feature Importance"
   ]
  },
  {
   "cell_type": "code",
   "execution_count": 3,
   "metadata": {},
   "outputs": [
    {
     "name": "stdout",
     "output_type": "stream",
     "text": [
      "Feature: 0, Score: 0.15174\n",
      "Feature: 1, Score: -0.56581\n",
      "Feature: 2, Score: -0.47250\n",
      "Feature: 3, Score: -0.14069\n",
      "Feature: 4, Score: 0.06982\n",
      "Feature: 5, Score: -0.74609\n",
      "Feature: 6, Score: 0.12295\n",
      "Feature: 7, Score: 0.04651\n",
      "Feature: 8, Score: -0.24610\n",
      "Feature: 9, Score: -0.22746\n"
     ]
    },
    {
     "data": {
      "image/png": "[encoded data removed]",
      "text/plain": [
       "<Figure size 432x288 with 1 Axes>"
      ]
     },
     "metadata": {
      "needs_background": "light"
     },
     "output_type": "display_data"
    }
   ],
   "source": [
    "from sklearn.linear_model import LogisticRegression\n",
    "\n",
    "model = LogisticRegression()\n",
    "model.fit(_X,_y)\n",
    "\n",
    "importance = model.coef_[0]  # look at the index being used in fetching all coefficients\n",
    "for i, v in enumerate(importance):\n",
    "    print(\"Feature: %0d, Score: %.5f\" % (i,v))\n",
    "    \n",
    "pyplot.bar([x for x in range(len(importance))], importance)\n",
    "pyplot.show()"
   ]
  },
  {
   "cell_type": "markdown",
   "metadata": {},
   "source": [
    "Looking at the above result we cannot infer the importances of the features. The result is too mixed."
   ]
  },
  {
   "cell_type": "markdown",
   "metadata": {},
   "source": [
    "## CART Regression Feature Importance"
   ]
  },
  {
   "cell_type": "code",
   "execution_count": 4,
   "metadata": {},
   "outputs": [
    {
     "name": "stdout",
     "output_type": "stream",
     "text": [
      "Feature: 0, Score: 0.00282\n",
      "Feature: 1, Score: 0.00484\n",
      "Feature: 2, Score: 0.00244\n",
      "Feature: 3, Score: 0.00189\n",
      "Feature: 4, Score: 0.51605\n",
      "Feature: 5, Score: 0.43744\n",
      "Feature: 6, Score: 0.02755\n",
      "Feature: 7, Score: 0.00282\n",
      "Feature: 8, Score: 0.00257\n",
      "Feature: 9, Score: 0.00158\n"
     ]
    },
    {
     "data": {
      "image/png": "[encoded data removed]",
      "text/plain": [
       "<Figure size 432x288 with 1 Axes>"
      ]
     },
     "metadata": {
      "needs_background": "light"
     },
     "output_type": "display_data"
    }
   ],
   "source": [
    "from sklearn.tree import DecisionTreeRegressor\n",
    "\n",
    "model = DecisionTreeRegressor()\n",
    "model.fit(X,y)\n",
    "\n",
    "importance = model.feature_importances_\n",
    "for i, v in enumerate(importance):\n",
    "    print(\"Feature: %0d, Score: %.5f\" % (i,v))\n",
    "    \n",
    "pyplot.bar([x for x in range(len(importance))], importance)\n",
    "pyplot.show()"
   ]
  },
  {
   "cell_type": "markdown",
   "metadata": {},
   "source": [
    "## CART Classification Feature Importance"
   ]
  },
  {
   "cell_type": "code",
   "execution_count": 5,
   "metadata": {},
   "outputs": [
    {
     "name": "stdout",
     "output_type": "stream",
     "text": [
      "Feature: 0, Score: 0.13009\n",
      "Feature: 1, Score: 0.06015\n",
      "Feature: 2, Score: 0.04607\n",
      "Feature: 3, Score: 0.08093\n",
      "Feature: 4, Score: 0.02109\n",
      "Feature: 5, Score: 0.32583\n",
      "Feature: 6, Score: 0.02577\n",
      "Feature: 7, Score: 0.02079\n",
      "Feature: 8, Score: 0.23018\n",
      "Feature: 9, Score: 0.05911\n"
     ]
    },
    {
     "data": {
      "image/png": "[encoded data removed]",
      "text/plain": [
       "<Figure size 432x288 with 1 Axes>"
      ]
     },
     "metadata": {
      "needs_background": "light"
     },
     "output_type": "display_data"
    }
   ],
   "source": [
    "from sklearn.tree import DecisionTreeClassifier\n",
    "\n",
    "model = DecisionTreeClassifier()\n",
    "model.fit(_X,_y)\n",
    "\n",
    "importance = model.feature_importances_\n",
    "for i, v in enumerate(importance):\n",
    "    print(\"Feature: %0d, Score: %.5f\" % (i,v))\n",
    "    \n",
    "pyplot.bar([x for x in range(len(importance))], importance)\n",
    "pyplot.show()"
   ]
  },
  {
   "cell_type": "markdown",
   "metadata": {},
   "source": [
    "In the above result it could be seen that most of the features are relevant and being weighed important but few features, e.g. 1, 6 and 9 are much more important as compared to others."
   ]
  },
  {
   "cell_type": "markdown",
   "metadata": {},
   "source": [
    "## RandomForest Regression Feature Importance"
   ]
  },
  {
   "cell_type": "markdown",
   "metadata": {},
   "source": [
    "Similarly, we could also use RandomForest regressor and classifier to find out the feature importance. All we have to do is import the required packages and go ahead in ways similar to above."
   ]
  },
  {
   "cell_type": "code",
   "execution_count": 6,
   "metadata": {},
   "outputs": [
    {
     "name": "stdout",
     "output_type": "stream",
     "text": [
      "Feature: 0, Score: 0.00294\n",
      "Feature: 1, Score: 0.00513\n",
      "Feature: 2, Score: 0.00303\n",
      "Feature: 3, Score: 0.00285\n",
      "Feature: 4, Score: 0.53326\n",
      "Feature: 5, Score: 0.41837\n",
      "Feature: 6, Score: 0.02574\n",
      "Feature: 7, Score: 0.00286\n",
      "Feature: 8, Score: 0.00310\n",
      "Feature: 9, Score: 0.00272\n"
     ]
    },
    {
     "data": {
      "image/png": "[encoded data removed]",
      "text/plain": [
       "<Figure size 432x288 with 1 Axes>"
      ]
     },
     "metadata": {
      "needs_background": "light"
     },
     "output_type": "display_data"
    }
   ],
   "source": [
    "from sklearn.ensemble import RandomForestRegressor\n",
    "\n",
    "model = RandomForestRegressor()\n",
    "model.fit(X,y)\n",
    "\n",
    "importance = model.feature_importances_\n",
    "for i, v in enumerate(importance):\n",
    "    print(\"Feature: %0d, Score: %.5f\" % (i,v))\n",
    "    \n",
    "pyplot.bar([x for x in range(len(importance))], importance)\n",
    "pyplot.show()"
   ]
  },
  {
   "cell_type": "markdown",
   "metadata": {},
   "source": [
    "## Random Forest Classification Feature Importance"
   ]
  },
  {
   "cell_type": "code",
   "execution_count": 7,
   "metadata": {},
   "outputs": [
    {
     "name": "stdout",
     "output_type": "stream",
     "text": [
      "Feature: 0, Score: 0.08071\n",
      "Feature: 1, Score: 0.12580\n",
      "Feature: 2, Score: 0.11474\n",
      "Feature: 3, Score: 0.08276\n",
      "Feature: 4, Score: 0.02918\n",
      "Feature: 5, Score: 0.24447\n",
      "Feature: 6, Score: 0.03572\n",
      "Feature: 7, Score: 0.02730\n",
      "Feature: 8, Score: 0.13391\n",
      "Feature: 9, Score: 0.12539\n"
     ]
    },
    {
     "data": {
      "image/png": "[encoded data removed]",
      "text/plain": [
       "<Figure size 432x288 with 1 Axes>"
      ]
     },
     "metadata": {
      "needs_background": "light"
     },
     "output_type": "display_data"
    }
   ],
   "source": [
    "from sklearn.ensemble import RandomForestClassifier\n",
    "\n",
    "model = RandomForestClassifier()\n",
    "model.fit(_X,_y)\n",
    "\n",
    "importance = model.feature_importances_\n",
    "for i, v in enumerate(importance):\n",
    "    print(\"Feature: %0d, Score: %.5f\" % (i,v))\n",
    "    \n",
    "pyplot.bar([x for x in range(len(importance))], importance)\n",
    "pyplot.show()"
   ]
  },
  {
   "cell_type": "markdown",
   "metadata": {},
   "source": [
    "## Permutation Feature Importance for Regression"
   ]
  },
  {
   "cell_type": "markdown",
   "metadata": {},
   "source": [
    "[Permutation feature importance](https://scikit-learn.org/stable/modules/permutation_importance.html) is a technique for calculating relative importance scores that is independent of the model used.\n",
    "\n",
    "First, a model is fit on the dataset, such as a model that does not support native feature importance scores. Then the model is used to make predictions on a dataset, although the values of a feature (column) in the dataset are scrambled. This is repeated for each feature in the dataset. Then this whole process is repeated 3, 5, 10 or more times. The result is a mean importance score for each input feature (and distribution of scores given the repeats).\n",
    "\n",
    "This approach can be used for regression or classification and requires that a performance metric be chosen as the basis of the importance score, such as the mean squared error for regression and accuracy for classification.\n",
    "\n",
    "Permutation feature selection can be used via the [permutation_importance() function](https://scikit-learn.org/stable/modules/generated/sklearn.inspection.permutation_importance.html) that takes a fit model, a dataset (train or test dataset is fine), and a scoring function."
   ]
  },
  {
   "cell_type": "code",
   "execution_count": 8,
   "metadata": {},
   "outputs": [
    {
     "name": "stderr",
     "output_type": "stream",
     "text": [
      "c:\\users\\rmt\\miniconda3\\lib\\importlib\\_bootstrap.py:219: RuntimeWarning: numpy.ufunc size changed, may indicate binary incompatibility. Expected 192 from C header, got 216 from PyObject\n",
      "  return f(*args, **kwds)\n"
     ]
    },
    {
     "name": "stdout",
     "output_type": "stream",
     "text": [
      "Feature: 0, Score: 182.59133\n",
      "Feature: 1, Score: 350.04142\n",
      "Feature: 2, Score: 161.74567\n",
      "Feature: 3, Score: 56.45811\n",
      "Feature: 4, Score: 9787.64239\n",
      "Feature: 5, Score: 7824.32210\n",
      "Feature: 6, Score: 935.66830\n",
      "Feature: 7, Score: 173.33782\n",
      "Feature: 8, Score: 105.83481\n",
      "Feature: 9, Score: 58.62999\n"
     ]
    },
    {
     "data": {
      "image/png": "[encoded data removed]",
      "text/plain": [
       "<Figure size 432x288 with 1 Axes>"
      ]
     },
     "metadata": {
      "needs_background": "light"
     },
     "output_type": "display_data"
    }
   ],
   "source": [
    "from sklearn.neighbors import KNeighborsRegressor\n",
    "from sklearn.inspection import permutation_importance\n",
    "\n",
    "model = KNeighborsRegressor()\n",
    "model.fit(X, y)\n",
    "\n",
    "results = permutation_importance(model, X, y, scoring=\"neg_mean_squared_error\")\n",
    "importance = results.importances_mean\n",
    "\n",
    "# summarize feature importance\n",
    "for i,v in enumerate(importance):\n",
    "    print('Feature: %0d, Score: %.5f' % (i,v))\n",
    "# plot feature importance\n",
    "pyplot.bar([x for x in range(len(importance))], importance)\n",
    "pyplot.show()"
   ]
  },
  {
   "cell_type": "markdown",
   "metadata": {},
   "source": [
    "Similarly, the feature importance for classification can be calculated using Permutation Feature Importance."
   ]
  }
 ],
 "metadata": {
  "kernelspec": {
   "display_name": "Python 3",
   "language": "python",
   "name": "python3"
  },
  "language_info": {
   "codemirror_mode": {
    "name": "ipython",
    "version": 3
   },
   "file_extension": ".py",
   "mimetype": "text/x-python",
   "name": "python",
   "nbconvert_exporter": "python",
   "pygments_lexer": "ipython3",
   "version": "3.7.4"
  }
 },
 "nbformat": 4,
 "nbformat_minor": 4
}
